{
 "cells": [
  {
   "cell_type": "code",
   "execution_count": 1,
   "metadata": {},
   "outputs": [],
   "source": [
    "from skimage import morphology\n",
    "import numpy as np\n",
    "import cv2\n",
    "import matplotlib.pyplot as plt\n",
    "from utils import load_images\n",
    "from image_utils import remove_small_components, find_branchpoints, blood_vessel_thickness\n",
    "from skimage.morphology import skeletonize\n",
    "from scipy.ndimage import binary_hit_or_miss, rotate\n",
    "from pystackreg import StackReg\n",
    "from skimage import io"
   ]
  },
  {
   "cell_type": "code",
   "execution_count": 7,
   "metadata": {},
   "outputs": [],
   "source": [
    "import numpy as np\n",
    "\n",
    "def generate_branching_kernels():\n",
    "    kernels = []\n",
    "    patterns = [\n",
    "        [[0, 0, 1],\n",
    "         [1, 1, 0],\n",
    "         [0, 1, 0]],\n",
    "\n",
    "        [[0, 1, 0],\n",
    "         [1, 1, 1],\n",
    "         [0, 1, 0]],\n",
    "\n",
    "        [[1, 0, 1],\n",
    "         [0, 1, 0],\n",
    "         [1, 0, 1]], \n",
    "\n",
    "        [[0, 1, 0],\n",
    "         [1, 1, 0],\n",
    "         [0, 1, 0]],\n",
    "\n",
    "        [[0, 1, 0],\n",
    "         [0, 1, 0],\n",
    "         [0, 1, 1]],\n",
    "\n",
    "        [[1, 0, 1],\n",
    "         [0, 1, 0],\n",
    "         [1, 0, 0]],\n",
    "    ]\n",
    "\n",
    "    for pattern in patterns:\n",
    "        for _ in range(4):\n",
    "            kernels.append(pattern)\n",
    "            kernels.append(np.fliplr(pattern))\n",
    "            pattern = np.rot90(pattern)\n",
    "\n",
    "    arr_list = np.array(kernels)\n",
    "    unique_arrays = np.unique(arr_list, axis=0)\n",
    "    return unique_arrays"
   ]
  },
  {
   "cell_type": "code",
   "execution_count": 2,
   "metadata": {},
   "outputs": [],
   "source": [
    "def find_vessel_widths(binary_image):\n",
    "    distance_transform = cv2.distanceTransform(binary_image, cv2.DIST_L2, cv2.DIST_MASK_PRECISE)\n",
    "    skeleton = skeletonize(binary_image > 127)\n",
    "    return distance_transform * skeleton"
   ]
  },
  {
   "cell_type": "code",
   "execution_count": 3,
   "metadata": {},
   "outputs": [],
   "source": [
    "def rigid_registration(ref, mov):\n",
    "    sr = StackReg(StackReg.RIGID_BODY)\n",
    "    out_rot = sr.register_transform(ref, mov)\n",
    "    return out_rot"
   ]
  },
  {
   "cell_type": "code",
   "execution_count": 41,
   "metadata": {},
   "outputs": [],
   "source": [
    "def find_branchpoints(image):\n",
    "    kernels = generate_branching_kernels()\n",
    "    coords_x, coords_y = [], []\n",
    "    for kernel in kernels:\n",
    "        branch_points = binary_hit_or_miss(image, kernel)\n",
    "        y, x  = np.nonzero(branch_points)\n",
    "        coords_x.append(y)\n",
    "        coords_y.append(x)\n",
    "        \n",
    "    return (np.concatenate(coords_x).tolist(), np.concatenate(coords_y).tolist())"
   ]
  },
  {
   "cell_type": "code",
   "execution_count": 5,
   "metadata": {},
   "outputs": [],
   "source": [
    "preop_seg_imgs_path = '..\\pre_op_segmented'\n",
    "postop_seg_imgs_path = '..\\post_op_segmented'\n",
    "\n",
    "preop = load_images(preop_seg_imgs_path)\n",
    "postop = load_images(postop_seg_imgs_path)\n",
    "preop_vw = []\n",
    "postop_vw = []\n",
    "\n",
    "for i in range(len(preop)):\n",
    "    preop[i] = remove_small_components(preop[i])\n",
    "    postop[i] = remove_small_components(postop[i])\n",
    "    preop_vw.append(find_vessel_widths(preop[i]))\n",
    "    postop_vw.append(find_vessel_widths(postop[i]))"
   ]
  },
  {
   "cell_type": "code",
   "execution_count": 43,
   "metadata": {},
   "outputs": [
    {
     "data": {
      "image/png": "[encoded data removed]",
      "text/plain": [
       "<Figure size 640x480 with 1 Axes>"
      ]
     },
     "metadata": {},
     "output_type": "display_data"
    }
   ],
   "source": [
    "pr, po, pr_vw, po_vw = preop[0], postop[0], preop_vw[0], postop_vw[0]\n",
    "\n",
    "width_lower = 3\n",
    "width_upper = 8\n",
    "step_size = 0.5\n",
    "\n",
    "small_component_size = 20\n",
    "\n",
    "for width in reversed(np.arange(width_lower, width_upper, step_size)):\n",
    "    filtered_pr_vw, filtered_po_vw = remove_small_components(pr_vw > width, small_component_size), remove_small_components(pr_vw > width, small_component_size)\n",
    "    registered_pr = rigid_registration(filtered_pr_vw, filtered_po_vw)\n",
    "    bps_x, bps_y = find_branchpoints(filtered_pr_vw)\n",
    "     "
   ]
  }
 ],
 "metadata": {
  "kernelspec": {
   "display_name": "Python 3",
   "language": "python",
   "name": "python3"
  },
  "language_info": {
   "codemirror_mode": {
    "name": "ipython",
    "version": 3
   },
   "file_extension": ".py",
   "mimetype": "text/x-python",
   "name": "python",
   "nbconvert_exporter": "python",
   "pygments_lexer": "ipython3",
   "version": "3.10.11"
  },
  "orig_nbformat": 4,
  "vscode": {
   "interpreter": {
    "hash": "9cc48bd2d1a0a46625af4395576b36991ebb58d23a3a5d63751c494d24c80100"
   }
  }
 },
 "nbformat": 4,
 "nbformat_minor": 2
}
